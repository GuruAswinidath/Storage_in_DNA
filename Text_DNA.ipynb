{
  "nbformat": 4,
  "nbformat_minor": 0,
  "metadata": {
    "colab": {
      "provenance": []
    },
    "kernelspec": {
      "name": "python3",
      "display_name": "Python 3"
    },
    "language_info": {
      "name": "python"
    }
  },
  "cells": [
    {
      "cell_type": "code",
      "execution_count": 20,
      "metadata": {
        "colab": {
          "base_uri": "https://localhost:8080/"
        },
        "id": "usCb0mRu2Qg6",
        "outputId": "d41fcef8-30bd-45c6-922f-7cbf96ca3826"
      },
      "outputs": [
        {
          "output_type": "stream",
          "name": "stdout",
          "text": [
            "Enter the word or sentence: aswdefrgthyjukilo\n",
            "The string after binary conversion: 0110000101110011011101110110010001100101011001100111001001100111011101000110100001111001011010100111010101101011011010010110110001101111\n",
            "The list of nuclotides: {'00': 'A', '01': 'T', '10': 'C', '11': 'G'}\n",
            "convertion of text to DNA string: TCATTGAGTGTGTCTATCTTTCTCTGACTCTGTGTATCCATGCTTCCCTGTTTCCGTCCTTCGATCGG\n",
            "Decoded the string into binary: 0110000101110011011101110110010001100101011001100111001001100111011101000110100001111001011010100111010101101011011010010110110001101111\n",
            "Decoded text from binary: aswdefrgthyjukilo\n",
            "It was working\n"
          ]
        }
      ],
      "source": [
        "a= input(\"Enter the word or sentence: \")\n",
        "# Prompt the user to enter a word or sentence\n",
        "\n",
        "res = ''.join(format(ord(i), '08b') for i in a)\n",
        "# Convert each character in the input text to its 8-bit binary representation\n",
        "# using the format() function and the ord() function, and join them into a single string\n",
        "\n",
        "print(\"The string after binary conversion: \" + str(res))\n",
        "# Print the resulting binary string\n",
        "\n",
        "chunk_size = 2\n",
        "chunks = [res[i:i+chunk_size] \n",
        "for i in range(0, len(res), chunk_size)]\n",
        "#print(chunks)\n",
        "\n",
        "nucleotide_dict = {\n",
        "    '00': 'A',\n",
        "    '01': 'T',\n",
        "    '10': 'C',\n",
        "    '11': 'G'\n",
        "}\n",
        "\n",
        "print(\"The list of nuclotides:\",nucleotide_dict)\n",
        "\n",
        "result = ''.join(nucleotide_dict[bin_num] for bin_num in chunks)\n",
        "print(\"convertion of text to DNA string:\", result)\n",
        "\n",
        "nucleotide_dict_1= {\n",
        "    'A': '00',\n",
        "    'T': '01',\n",
        "    'C': '10',\n",
        "    'G': '11'\n",
        "}\n",
        "\n",
        "decoded_list = [nucleotide_dict_1[letter] for letter in result]\n",
        "decoded_string = ''.join(decoded_list)\n",
        "\n",
        "print(\"Decoded the string into binary:\", decoded_string)\n",
        "\n",
        "\n",
        "\n",
        "# Split the binary string into chunks of 8 characters\n",
        "binary_chunks = [decoded_string[i:i+8] for i in range(0, len(decoded_string), 8)]\n",
        "\n",
        "# Convert each binary chunk to its corresponding ASCII character\n",
        "decoded_text = ''.join(chr(int(chunk, 2)) for chunk in binary_chunks)\n",
        "\n",
        "print(\"Decoded text from binary:\", decoded_text)\n",
        "\n",
        "if(decoded_text==a):\n",
        "  print(\"It was working\")\n",
        "else:\n",
        "  print(\"It was not working\")  "
      ]
    },
    {
      "cell_type": "code",
      "source": [],
      "metadata": {
        "id": "KXOkNLyumf3i"
      },
      "execution_count": null,
      "outputs": []
    }
  ]
}